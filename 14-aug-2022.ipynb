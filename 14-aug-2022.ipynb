{
 "cells": [
  {
   "cell_type": "markdown",
   "id": "e1086cda",
   "metadata": {},
   "source": [
    "# Modules\n"
   ]
  },
  {
   "cell_type": "raw",
   "id": "30bb8842",
   "metadata": {},
   "source": [
    "\n",
    "#import modulename"
   ]
  },
  {
   "cell_type": "code",
   "execution_count": 1,
   "id": "e5bed0bd",
   "metadata": {},
   "outputs": [],
   "source": [
    "import keyword"
   ]
  },
  {
   "cell_type": "code",
   "execution_count": 2,
   "id": "e74e2714",
   "metadata": {
    "scrolled": true
   },
   "outputs": [
    {
     "name": "stdout",
     "output_type": "stream",
     "text": [
      "['False', 'None', 'True', '__peg_parser__', 'and', 'as', 'assert', 'async', 'await', 'break', 'class', 'continue', 'def', 'del', 'elif', 'else', 'except', 'finally', 'for', 'from', 'global', 'if', 'import', 'in', 'is', 'lambda', 'nonlocal', 'not', 'or', 'pass', 'raise', 'return', 'try', 'while', 'with', 'yield']\n"
     ]
    }
   ],
   "source": [
    "print(keyword.kwlist)"
   ]
  },
  {
   "cell_type": "raw",
   "id": "d10309d5",
   "metadata": {},
   "source": [
    "pythone module search plan\n",
    "\n",
    "while imporing a module.pythone looks at uinterpreter first looks for a built-in module then (if not found) into A list \n",
    "directories define in sys.path. the search is in this order. the current directory.\n",
    "                                                                                        "
   ]
  },
  {
   "cell_type": "code",
   "execution_count": 3,
   "id": "56505a18",
   "metadata": {},
   "outputs": [],
   "source": [
    "import sys"
   ]
  },
  {
   "cell_type": "code",
   "execution_count": 4,
   "id": "eb4022b5",
   "metadata": {
    "scrolled": true
   },
   "outputs": [
    {
     "data": {
      "text/plain": [
       "['C:\\\\Users\\\\Jainil iptesh Bariya',\n",
       " 'E:\\\\bhupendra\\\\python39.zip',\n",
       " 'E:\\\\bhupendra\\\\DLLs',\n",
       " 'E:\\\\bhupendra\\\\lib',\n",
       " 'E:\\\\bhupendra',\n",
       " '',\n",
       " 'E:\\\\bhupendra\\\\lib\\\\site-packages',\n",
       " 'E:\\\\bhupendra\\\\lib\\\\site-packages\\\\win32',\n",
       " 'E:\\\\bhupendra\\\\lib\\\\site-packages\\\\win32\\\\lib',\n",
       " 'E:\\\\bhupendra\\\\lib\\\\site-packages\\\\Pythonwin']"
      ]
     },
     "execution_count": 4,
     "metadata": {},
     "output_type": "execute_result"
    }
   ],
   "source": [
    "sys.path"
   ]
  },
  {
   "cell_type": "code",
   "execution_count": 5,
   "id": "1792f984",
   "metadata": {},
   "outputs": [],
   "source": [
    "import os"
   ]
  },
  {
   "cell_type": "code",
   "execution_count": 6,
   "id": "6df0fd38",
   "metadata": {},
   "outputs": [
    {
     "data": {
      "text/plain": [
       "'C:\\\\Users\\\\Jainil iptesh Bariya'"
      ]
     },
     "execution_count": 6,
     "metadata": {},
     "output_type": "execute_result"
    }
   ],
   "source": [
    "# get current working directory\n",
    "os.getcwd()"
   ]
  },
  {
   "cell_type": "raw",
   "id": "9d630611",
   "metadata": {},
   "source": [
    "#changing directory\n",
    "# we can change the current working directory using the chdir() method.\n",
    "#os.chdir('C:\\\\Users')\n",
    "#os.getcwd()"
   ]
  },
  {
   "cell_type": "code",
   "execution_count": 7,
   "id": "4ec8a4e6",
   "metadata": {},
   "outputs": [
    {
     "data": {
      "text/plain": [
       "[' 9-july-2022.ipynb',\n",
       " '-1.14-windows.xml',\n",
       " '.anaconda',\n",
       " '.astropy',\n",
       " '.conda',\n",
       " '.condarc',\n",
       " '.continuum',\n",
       " '.ipynb_checkpoints',\n",
       " '.ipython',\n",
       " '.jupyter',\n",
       " '.matplotlib',\n",
       " '.spyder-py3',\n",
       " '.vscode',\n",
       " '10-july-2022.ipynb',\n",
       " '13-aug-2022.ipynb',\n",
       " '14-aug-2022.ipynb',\n",
       " '16-jul-2022.ipynb',\n",
       " '17-july-2022.ipynb',\n",
       " '23-july-2022.ipynb',\n",
       " '24-july-2022.ipynb',\n",
       " '27-aug-2022.ipynb',\n",
       " '30-july-2022.ipynb',\n",
       " '31-july-2022.ipynb',\n",
       " '3D Objects',\n",
       " '6-Aug-2022.ipynb',\n",
       " '7-aug-2022.ipynb',\n",
       " 'anaconda3',\n",
       " 'AppData',\n",
       " 'Application Data',\n",
       " 'BullseyeCoverageError.txt',\n",
       " 'Contacts',\n",
       " 'Cookies',\n",
       " 'data sructures.ipynb',\n",
       " 'Desktop',\n",
       " 'Documents',\n",
       " 'Downloads',\n",
       " 'Favorites',\n",
       " 'Flag of America.ipynb',\n",
       " 'Links',\n",
       " 'Local Settings',\n",
       " 'Music',\n",
       " 'My Documents',\n",
       " 'my first notebook.ipynb',\n",
       " 'NetHood',\n",
       " 'NTUSER.DAT',\n",
       " 'ntuser.dat.LOG1',\n",
       " 'ntuser.dat.LOG2',\n",
       " 'NTUSER.DAT{53b39e88-18c4-11ea-a811-000d3aa4692b}.TM.blf',\n",
       " 'NTUSER.DAT{53b39e88-18c4-11ea-a811-000d3aa4692b}.TMContainer00000000000000000001.regtrans-ms',\n",
       " 'NTUSER.DAT{53b39e88-18c4-11ea-a811-000d3aa4692b}.TMContainer00000000000000000002.regtrans-ms',\n",
       " 'ntuser.ini',\n",
       " 'OneDrive',\n",
       " 'Pictures',\n",
       " 'Practice.ipynb',\n",
       " 'PrintHood',\n",
       " 'Recent',\n",
       " 'Saved Games',\n",
       " 'Searches',\n",
       " 'SendTo',\n",
       " 'Start Menu',\n",
       " 'student_database.db',\n",
       " 'student_database.db-journal',\n",
       " 'Templates',\n",
       " 'Untitled Folder',\n",
       " 'Untitled Folder 1',\n",
       " 'Untitled Folder 2',\n",
       " 'Untitled.ipynb',\n",
       " 'Untitled1.ipynb',\n",
       " 'Untitled2.ipynb',\n",
       " 'Untitled3.ipynb',\n",
       " 'Videos']"
      ]
     },
     "execution_count": 7,
     "metadata": {},
     "output_type": "execute_result"
    }
   ],
   "source": [
    "# show the list of files and folders in current working directory\n",
    "os.listdir()"
   ]
  },
  {
   "cell_type": "code",
   "execution_count": 8,
   "id": "8bfd05f7",
   "metadata": {},
   "outputs": [],
   "source": [
    "import math"
   ]
  },
  {
   "cell_type": "code",
   "execution_count": 9,
   "id": "82cde4b7",
   "metadata": {},
   "outputs": [
    {
     "data": {
      "text/plain": [
       "3.141592653589793"
      ]
     },
     "execution_count": 9,
     "metadata": {},
     "output_type": "execute_result"
    }
   ],
   "source": [
    "math.pi"
   ]
  },
  {
   "cell_type": "code",
   "execution_count": 18,
   "id": "d6aadbd2",
   "metadata": {},
   "outputs": [],
   "source": [
    "radius=7"
   ]
  },
  {
   "cell_type": "code",
   "execution_count": 21,
   "id": "aba48948",
   "metadata": {},
   "outputs": [
    {
     "data": {
      "text/plain": [
       "153.94"
      ]
     },
     "execution_count": 21,
     "metadata": {},
     "output_type": "execute_result"
    }
   ],
   "source": [
    "areaofcircle=math.pi*(radius**2)\n",
    "round(areaofcircle,2)"
   ]
  },
  {
   "cell_type": "code",
   "execution_count": 10,
   "id": "91a0e105",
   "metadata": {},
   "outputs": [
    {
     "data": {
      "text/plain": [
       "8.0"
      ]
     },
     "execution_count": 10,
     "metadata": {},
     "output_type": "execute_result"
    }
   ],
   "source": [
    "64**(1/2)"
   ]
  },
  {
   "cell_type": "code",
   "execution_count": 11,
   "id": "bca885b5",
   "metadata": {},
   "outputs": [
    {
     "data": {
      "text/plain": [
       "8.0"
      ]
     },
     "execution_count": 11,
     "metadata": {},
     "output_type": "execute_result"
    }
   ],
   "source": [
    "\n",
    "\n",
    "math.sqrt(64)"
   ]
  },
  {
   "cell_type": "code",
   "execution_count": 12,
   "id": "9e9af4b4",
   "metadata": {},
   "outputs": [
    {
     "data": {
      "text/plain": [
       "5.0"
      ]
     },
     "execution_count": 12,
     "metadata": {},
     "output_type": "execute_result"
    }
   ],
   "source": [
    "math.sqrt(25)"
   ]
  },
  {
   "cell_type": "code",
   "execution_count": 13,
   "id": "7b897407",
   "metadata": {},
   "outputs": [
    {
     "data": {
      "text/plain": [
       "4.0"
      ]
     },
     "execution_count": 13,
     "metadata": {},
     "output_type": "execute_result"
    }
   ],
   "source": [
    "math.pow(2,2)"
   ]
  },
  {
   "cell_type": "code",
   "execution_count": 14,
   "id": "b67980e4",
   "metadata": {},
   "outputs": [
    {
     "data": {
      "text/plain": [
       "8.0"
      ]
     },
     "execution_count": 14,
     "metadata": {},
     "output_type": "execute_result"
    }
   ],
   "source": [
    "math.pow(2,3)"
   ]
  },
  {
   "cell_type": "code",
   "execution_count": 15,
   "id": "d5be1ae5",
   "metadata": {},
   "outputs": [
    {
     "data": {
      "text/plain": [
       "49.0"
      ]
     },
     "execution_count": 15,
     "metadata": {},
     "output_type": "execute_result"
    }
   ],
   "source": [
    "math.pow(7,2)"
   ]
  },
  {
   "cell_type": "code",
   "execution_count": 22,
   "id": "71247145",
   "metadata": {},
   "outputs": [
    {
     "name": "stdout",
     "output_type": "stream",
     "text": [
      "enter any value81\n"
     ]
    },
    {
     "data": {
      "text/plain": [
       "9.0"
      ]
     },
     "execution_count": 22,
     "metadata": {},
     "output_type": "execute_result"
    }
   ],
   "source": [
    "def find_sqrt(x):\n",
    "    return math.sqrt(x)\n",
    "\n",
    "x=int(input(\"enter any value\"))\n",
    "find_sqrt(x)"
   ]
  },
  {
   "cell_type": "code",
   "execution_count": 34,
   "id": "8a55c66d",
   "metadata": {},
   "outputs": [
    {
     "name": "stdout",
     "output_type": "stream",
     "text": [
      "enter any value5\n",
      "enter any value3\n"
     ]
    },
    {
     "data": {
      "text/plain": [
       "125.0"
      ]
     },
     "execution_count": 34,
     "metadata": {},
     "output_type": "execute_result"
    }
   ],
   "source": [
    "def func_power(a,b):\n",
    "     return math.pow(a,b)\n",
    "    \n",
    "a=int(input(\"enter any value\"))\n",
    "b=int(input(\"enter any value\"))\n",
    "func_power(a,b)"
   ]
  },
  {
   "cell_type": "code",
   "execution_count": 35,
   "id": "ef87ac5b",
   "metadata": {},
   "outputs": [],
   "source": [
    "import math as mt"
   ]
  },
  {
   "cell_type": "code",
   "execution_count": 36,
   "id": "0e6bd207",
   "metadata": {},
   "outputs": [
    {
     "data": {
      "text/plain": [
       "3.141592653589793"
      ]
     },
     "execution_count": 36,
     "metadata": {},
     "output_type": "execute_result"
    }
   ],
   "source": [
    "mt.pi"
   ]
  },
  {
   "cell_type": "code",
   "execution_count": 37,
   "id": "dfb468c5",
   "metadata": {},
   "outputs": [
    {
     "data": {
      "text/plain": [
       "153.94"
      ]
     },
     "execution_count": 37,
     "metadata": {},
     "output_type": "execute_result"
    }
   ],
   "source": [
    "areaofcircle=mt.pi*(radius**2)\n",
    "round(areaofcircle,2)"
   ]
  },
  {
   "cell_type": "code",
   "execution_count": 38,
   "id": "8583f3db",
   "metadata": {},
   "outputs": [
    {
     "data": {
      "text/plain": [
       "8.0"
      ]
     },
     "execution_count": 38,
     "metadata": {},
     "output_type": "execute_result"
    }
   ],
   "source": [
    "mt.sqrt(64)"
   ]
  },
  {
   "cell_type": "code",
   "execution_count": 6,
   "id": "7d6b1d41",
   "metadata": {},
   "outputs": [],
   "source": [
    "import math"
   ]
  },
  {
   "cell_type": "code",
   "execution_count": 10,
   "id": "d03d8576",
   "metadata": {},
   "outputs": [],
   "source": [
    "# get current date and time\n",
    "import datetime\n"
   ]
  },
  {
   "cell_type": "code",
   "execution_count": 11,
   "id": "09a1848b",
   "metadata": {},
   "outputs": [
    {
     "data": {
      "text/plain": [
       "datetime.datetime(2022, 8, 30, 14, 39, 29, 260513)"
      ]
     },
     "execution_count": 11,
     "metadata": {},
     "output_type": "execute_result"
    }
   ],
   "source": [
    "dt=datetime.datetime.now()\n",
    "dt"
   ]
  },
  {
   "cell_type": "code",
   "execution_count": 13,
   "id": "e68ea379",
   "metadata": {},
   "outputs": [
    {
     "data": {
      "text/plain": [
       "dict_keys(['__name__', '__doc__', '__package__', '__loader__', '__spec__', 'acos', 'acosh', 'asin', 'asinh', 'atan', 'atan2', 'atanh', 'ceil', 'copysign', 'cos', 'cosh', 'degrees', 'dist', 'erf', 'erfc', 'exp', 'expm1', 'fabs', 'factorial', 'floor', 'fmod', 'frexp', 'fsum', 'gamma', 'gcd', 'hypot', 'isclose', 'isfinite', 'isinf', 'isnan', 'isqrt', 'lcm', 'ldexp', 'lgamma', 'log', 'log1p', 'log10', 'log2', 'modf', 'pow', 'radians', 'remainder', 'sin', 'sinh', 'sqrt', 'tan', 'tanh', 'trunc', 'prod', 'perm', 'comb', 'nextafter', 'ulp', 'pi', 'e', 'tau', 'inf', 'nan'])"
      ]
     },
     "execution_count": 13,
     "metadata": {},
     "output_type": "execute_result"
    }
   ],
   "source": [
    "math.__dict__.keys()"
   ]
  },
  {
   "cell_type": "code",
   "execution_count": 18,
   "id": "cea5b769",
   "metadata": {},
   "outputs": [
    {
     "data": {
      "text/plain": [
       "datetime.datetime(2022, 8, 30, 14, 50, 11, 470756)"
      ]
     },
     "execution_count": 18,
     "metadata": {},
     "output_type": "execute_result"
    }
   ],
   "source": [
    "dt=datetime.datetime.now()\n",
    "dt"
   ]
  },
  {
   "cell_type": "markdown",
   "id": "b5f135c9",
   "metadata": {},
   "source": [
    "get cuurent date"
   ]
  },
  {
   "cell_type": "code",
   "execution_count": 6,
   "id": "2fa8bccd",
   "metadata": {},
   "outputs": [],
   "source": [
    "import datetime"
   ]
  },
  {
   "cell_type": "code",
   "execution_count": 8,
   "id": "31b3d8e0",
   "metadata": {},
   "outputs": [
    {
     "data": {
      "text/plain": [
       "datetime.datetime(2022, 8, 31, 15, 44, 41, 269099)"
      ]
     },
     "execution_count": 8,
     "metadata": {},
     "output_type": "execute_result"
    }
   ],
   "source": [
    "dt=datetime.datetime.now()\n",
    "dt"
   ]
  },
  {
   "cell_type": "markdown",
   "id": "5de1d119",
   "metadata": {},
   "source": [
    "get current date"
   ]
  },
  {
   "cell_type": "code",
   "execution_count": 9,
   "id": "e8d6c985",
   "metadata": {},
   "outputs": [],
   "source": [
    "dt1=datetime.date.today()"
   ]
  },
  {
   "cell_type": "code",
   "execution_count": 10,
   "id": "fc08f692",
   "metadata": {},
   "outputs": [
    {
     "data": {
      "text/plain": [
       "datetime.date(2022, 8, 31)"
      ]
     },
     "execution_count": 10,
     "metadata": {},
     "output_type": "execute_result"
    }
   ],
   "source": [
    "dt1"
   ]
  },
  {
   "cell_type": "raw",
   "id": "58705ffa",
   "metadata": {},
   "source": [
    "commonly used classes in the datetime module are:\n",
    "    data class\n",
    "    time class\n",
    "    datetime class\n",
    "    timedelta class"
   ]
  },
  {
   "cell_type": "code",
   "execution_count": 11,
   "id": "0e2c016b",
   "metadata": {},
   "outputs": [
    {
     "data": {
      "text/plain": [
       "datetime.date(2022, 8, 31)"
      ]
     },
     "execution_count": 11,
     "metadata": {},
     "output_type": "execute_result"
    }
   ],
   "source": [
    "import datetime\n",
    "d=datetime.date(2022, 8 , 31)\n",
    "d"
   ]
  },
  {
   "cell_type": "code",
   "execution_count": 12,
   "id": "5c99f083",
   "metadata": {},
   "outputs": [
    {
     "data": {
      "text/plain": [
       "datetime.date(2021, 5, 26)"
      ]
     },
     "execution_count": 12,
     "metadata": {},
     "output_type": "execute_result"
    }
   ],
   "source": [
    "from datetime import date\n",
    "a=date(2021, 5, 26)\n",
    "a"
   ]
  },
  {
   "cell_type": "code",
   "execution_count": 13,
   "id": "e0b87001",
   "metadata": {},
   "outputs": [
    {
     "data": {
      "text/plain": [
       "datetime.date(2022, 8, 31)"
      ]
     },
     "execution_count": 13,
     "metadata": {},
     "output_type": "execute_result"
    }
   ],
   "source": [
    "#get current date\n",
    "td=date.today()\n",
    "td"
   ]
  },
  {
   "cell_type": "code",
   "execution_count": 14,
   "id": "46498c9d",
   "metadata": {},
   "outputs": [
    {
     "name": "stdout",
     "output_type": "stream",
     "text": [
      "year= 2022\n",
      "month= 8\n",
      "date= 31\n"
     ]
    }
   ],
   "source": [
    "print(\"year=\",td.year)\n",
    "print(\"month=\",td.month)\n",
    "print(\"date=\",td.day)"
   ]
  },
  {
   "cell_type": "raw",
   "id": "ab431032",
   "metadata": {},
   "source": [
    "a time object instantiated from the time class represent the local time"
   ]
  },
  {
   "cell_type": "code",
   "execution_count": 16,
   "id": "ac9db903",
   "metadata": {},
   "outputs": [
    {
     "name": "stdout",
     "output_type": "stream",
     "text": [
      "00:00:00\n",
      "11:35:36\n"
     ]
    }
   ],
   "source": [
    "from datetime import time\n",
    "a=time()\n",
    "print(a)\n",
    "\n",
    "# time(hour,minute,second)\n",
    "b=time(11,35,36)\n",
    "print(b)"
   ]
  },
  {
   "cell_type": "code",
   "execution_count": 18,
   "id": "ca774326",
   "metadata": {},
   "outputs": [
    {
     "name": "stdout",
     "output_type": "stream",
     "text": [
      "2021-04-26 00:00:00\n"
     ]
    }
   ],
   "source": [
    "from datetime import datetime\n",
    "a=datetime(2021,4,26)\n",
    "\n",
    "print(a)"
   ]
  },
  {
   "cell_type": "code",
   "execution_count": 19,
   "id": "02bcf5af",
   "metadata": {},
   "outputs": [
    {
     "name": "stdout",
     "output_type": "stream",
     "text": [
      "year= 2021\n",
      "monyh 4\n",
      "day 26\n"
     ]
    }
   ],
   "source": [
    "print(\"year=\",a.year)\n",
    "print(\"monyh\",a.month)\n",
    "print(\"day\",a.day)"
   ]
  },
  {
   "cell_type": "code",
   "execution_count": 20,
   "id": "dc209150",
   "metadata": {},
   "outputs": [
    {
     "name": "stdout",
     "output_type": "stream",
     "text": [
      "2022\n",
      "8\n",
      "31\n",
      "17\n",
      "30\n",
      "50\n"
     ]
    }
   ],
   "source": [
    "# datetime(year,month,date,hour,minute,second)\n",
    "\n",
    "b=datetime(2022,8,31,17,30,50)\n",
    "print(b.year)\n",
    "print(b.month)\n",
    "print(b.day)\n",
    "print(b.hour)\n",
    "print(b.minute)\n",
    "print(b.second)"
   ]
  },
  {
   "cell_type": "code",
   "execution_count": null,
   "id": "49495bcc",
   "metadata": {},
   "outputs": [],
   "source": []
  },
  {
   "cell_type": "raw",
   "id": "adeb7678",
   "metadata": {},
   "source": [
    "pip---python package manager\n",
    "\n",
    "the best way to manaage python's third party package/modules is with pip.\n",
    "\n",
    "! pip install textblob"
   ]
  },
  {
   "cell_type": "code",
   "execution_count": null,
   "id": "3e647fe3",
   "metadata": {},
   "outputs": [],
   "source": []
  },
  {
   "cell_type": "code",
   "execution_count": null,
   "id": "e293dbc2",
   "metadata": {},
   "outputs": [],
   "source": []
  },
  {
   "cell_type": "raw",
   "id": "1baa1bee",
   "metadata": {},
   "source": [
    "# python file i/o operations\n",
    "\n",
    "- what is the file?\n",
    "- how to open a file?\n",
    "- how to close a file using python?\n",
    "- how to write to file using python?\n",
    "- how to read file in python?\n",
    "- pythone file mathods\n",
    "\n",
    "what is a file?\n",
    "-  file is nbamed location on disk to store related information.\n",
    "it is used to permanantly store data in a non-volatile memory(e.g hard disk).\n",
    "\n",
    "- since , random acces memory (RAM) is volatile which loses its data when computer is turned off, we use files future \n",
    "use of the data.\n",
    "\n",
    "\n",
    "# python, a file operation takes place in the following order\n",
    "\n",
    "- open a file \n",
    "-read or write(perform opreration)\n",
    "-close the file\n",
    "\n",
    "# open a file\n",
    "\n",
    "- python hs a built in function open() to open a file.\n",
    "->>> f = open (\"test.text\") # open in a current directory \n",
    "->>> f = open(\"c:python33/README.txt\")\n",
    "-# spacifying full path\n",
    "\n",
    "# python file modes\n",
    "\n",
    "'r' - open a file for reading.(default)\n",
    "'w' - open a file for writing . creates a new file if it does not exist \n",
    "      or truncates the file if it  exist\n",
    "'x' - open a file for exclusive creation . if the file alredy exist, the opertion fails.\n",
    "'a' - open for appending at the end of the file without truncating it . creates a new file \n",
    "      if it does not exist,\n",
    "'i' - open in text mode.(default)\n",
    "'b' - open in binary mode.\n",
    "'+' - open a file for updating(reading and writing)\n",
    "\n",
    " # click to add titleivalent to 'r' or 'rt'\n",
    "\n",
    "    \n",
    "- f = open(\"test.txt\")  # equivalent to 'r' or 'rt'\n",
    "- f = open(\"test.txt\",'w') # write text mode\n",
    "- f = open(\"img.bmp\",'r+b') #  read in write in binary mode\n",
    "\n",
    "# what is unicode?\n",
    "\n",
    "- in computer systems, charector are transformed and stored as numbers\n",
    "(sequences of bits) that can be handled by the processor.\n",
    "\n",
    "- a code page is an encoding scheme that maps a specific sequience of bits to \n",
    " its charactor representation \n",
    "    \n",
    "- the pre unicode world was populated with hundreds of different encoding\n",
    "  cshemes that assigned a number to each letter or charactor.\n",
    "    \n",
    "- many such cschemes included code pages thatb contained only 256\n",
    " charectors - each charactor requiring 8 bits of storage\n",
    "    \n",
    "# importance of the unicode \n",
    "\n",
    "- from a translation/localization point of view, unicode is an important step\n",
    " towards standardization at least from a tools and file format standpoint.\n",
    "- unicode enebles a single  software product ar a single website to be \n",
    "  desined for multiple platforms , languages and countries (no need for re-engineering)\n",
    "  which can lead to a ssignificant reduction in coast over the use of \n",
    "  legacy charecter sets.\n",
    "  \n",
    "# click to add title\n",
    "\n",
    "- ASCII(american standerd code for information interchange) become the first widespred \n",
    "  encoding scheme . however, its limited to only 128 charector definations, this is the fine for the most common enlish     \n",
    "  charectorte , number and punctuaion, but is abit limiting for the rest of the world.\n",
    "    \n",
    "- naturaly , rest of the world want the same encoding scheme for thair charactor too, however, for alitel , while depending\n",
    "  on where you were , there might have been a different character diplayed for the same ASCII Acode.\n",
    "    \n",
    "# UTF-8\n",
    "\n",
    "-utf 8 the most popular type of unicode\n",
    "-\n",
    "-\n",
    "-\n",
    "\n",
    "-\n",
    "\n",
    "    \n",
    "  \n",
    "    "
   ]
  },
  {
   "cell_type": "code",
   "execution_count": null,
   "id": "2f4dc55b",
   "metadata": {},
   "outputs": [],
   "source": []
  },
  {
   "cell_type": "markdown",
   "id": "d9f784a2",
   "metadata": {},
   "source": [
    "# FILE INPUT/OUTPUT OPERATIONS\n",
    "\n",
    "f= open('E:\\python\\file1.txt','w')\n",
    "\n",
    "f= open('E:\\python\\file1.txt','r')"
   ]
  },
  {
   "cell_type": "code",
   "execution_count": null,
   "id": "6c3b041b",
   "metadata": {},
   "outputs": [],
   "source": [
    "# savefile=open('c:\\\\users\\\\dell\\\\demofile.txt','w')\n"
   ]
  },
  {
   "cell_type": "code",
   "execution_count": 5,
   "id": "753ffdaa",
   "metadata": {},
   "outputs": [],
   "source": [
    "savefile=open('E:\\\\bhupendra\\\\demofile14aug.txt','w')"
   ]
  },
  {
   "cell_type": "code",
   "execution_count": 6,
   "id": "819514dd",
   "metadata": {},
   "outputs": [
    {
     "data": {
      "text/plain": [
       "55"
      ]
     },
     "execution_count": 6,
     "metadata": {},
     "output_type": "execute_result"
    }
   ],
   "source": [
    "savefile.write(\"this is the first line for file input output operations\")"
   ]
  },
  {
   "cell_type": "code",
   "execution_count": 7,
   "id": "68460811",
   "metadata": {},
   "outputs": [],
   "source": [
    "savefile.close()"
   ]
  },
  {
   "cell_type": "code",
   "execution_count": 8,
   "id": "264579fa",
   "metadata": {},
   "outputs": [],
   "source": [
    "readme=open('E:\\\\bhupendra\\\\demofile14aug.txt','r')"
   ]
  },
  {
   "cell_type": "code",
   "execution_count": 9,
   "id": "b98be866",
   "metadata": {},
   "outputs": [
    {
     "name": "stdout",
     "output_type": "stream",
     "text": [
      "this is the first line for file input output operations\n"
     ]
    }
   ],
   "source": [
    "print(readme.read())"
   ]
  },
  {
   "cell_type": "code",
   "execution_count": 10,
   "id": "d0225491",
   "metadata": {},
   "outputs": [],
   "source": [
    "readme.close()"
   ]
  },
  {
   "cell_type": "code",
   "execution_count": 13,
   "id": "325d146a",
   "metadata": {},
   "outputs": [],
   "source": [
    "appendfile=open('E:\\\\bhupendra\\\\demofile14aug.txt','a')"
   ]
  },
  {
   "cell_type": "code",
   "execution_count": 14,
   "id": "4ba64693",
   "metadata": {},
   "outputs": [
    {
     "data": {
      "text/plain": [
       "54"
      ]
     },
     "execution_count": 14,
     "metadata": {},
     "output_type": "execute_result"
    }
   ],
   "source": [
    "appendfile.write(\"\\n this iscccccccc the next line , tommorow is independence day\")"
   ]
  },
  {
   "cell_type": "code",
   "execution_count": 15,
   "id": "dc0add23",
   "metadata": {},
   "outputs": [],
   "source": [
    "appendfile.close()"
   ]
  },
  {
   "cell_type": "code",
   "execution_count": 16,
   "id": "d1fae5fa",
   "metadata": {},
   "outputs": [],
   "source": [
    "readme=open('E:\\\\bhupendra\\\\demofile14aug.txt','r')"
   ]
  },
  {
   "cell_type": "code",
   "execution_count": 17,
   "id": "60d6cbda",
   "metadata": {},
   "outputs": [
    {
     "name": "stdout",
     "output_type": "stream",
     "text": [
      "this is the first line for file input output operations\n",
      " this is the next line , tommorow is independence day\n",
      " this is the next line , tommorow is independence day\n"
     ]
    }
   ],
   "source": [
    "print(readme.read())"
   ]
  },
  {
   "cell_type": "code",
   "execution_count": 19,
   "id": "517dffc6",
   "metadata": {},
   "outputs": [],
   "source": [
    "readme.close()"
   ]
  },
  {
   "cell_type": "code",
   "execution_count": null,
   "id": "0eddf0ea",
   "metadata": {},
   "outputs": [],
   "source": []
  }
 ],
 "metadata": {
  "kernelspec": {
   "display_name": "Python 3 (ipykernel)",
   "language": "python",
   "name": "python3"
  },
  "language_info": {
   "codemirror_mode": {
    "name": "ipython",
    "version": 3
   },
   "file_extension": ".py",
   "mimetype": "text/x-python",
   "name": "python",
   "nbconvert_exporter": "python",
   "pygments_lexer": "ipython3",
   "version": "3.9.12"
  }
 },
 "nbformat": 4,
 "nbformat_minor": 5
}
